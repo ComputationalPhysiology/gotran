{
 "cells": [
  {
   "cell_type": "code",
   "execution_count": null,
   "metadata": {},
   "outputs": [],
   "source": [
    "import pyopencl as cl\n",
    "import numpy as np\n",
    "import numpy.linalg as la\n",
    "\n",
    "mf = cl.mem_flags"
   ]
  },
  {
   "cell_type": "code",
   "execution_count": null,
   "metadata": {},
   "outputs": [],
   "source": [
    "import pyopencl.array"
   ]
  },
  {
   "cell_type": "code",
   "execution_count": null,
   "metadata": {},
   "outputs": [],
   "source": [
    "ctx = cl.create_some_context(interactive=True)\n",
    "\n",
    "queue = cl.CommandQueue(ctx)"
   ]
  },
  {
   "cell_type": "markdown",
   "metadata": {},
   "source": [
    "Before running the remainder of this notebook, ensure that `make` has been run so that the `model.cl` and `model.py` files exist."
   ]
  },
  {
   "cell_type": "code",
   "execution_count": null,
   "metadata": {},
   "outputs": [],
   "source": [
    "prg_filename = 'tentusscher_panfilov_2006_M_cell.cl'\n",
    "#prg_filename = 'TT06_M_manual.cl'\n",
    "\n",
    "with open(prg_filename, 'r') as f:\n",
    "#with open('test.cl', 'r') as f:\n",
    "    prg_str = f.read()\n",
    "    \n",
    "prg = cl.Program(ctx, prg_str).build()"
   ]
  },
  {
   "cell_type": "code",
   "execution_count": null,
   "metadata": {},
   "outputs": [],
   "source": [
    "import tentusscher_panfilov_2006_M_cell as TT06"
   ]
  },
  {
   "cell_type": "code",
   "execution_count": null,
   "metadata": {},
   "outputs": [],
   "source": [
    "parameters = TT06.init_parameter_values()\n",
    "default_initial_state_values = TT06.init_state_values()\n",
    "num_states = default_initial_state_values.shape[0]"
   ]
  },
  {
   "cell_type": "code",
   "execution_count": null,
   "metadata": {},
   "outputs": [],
   "source": [
    "V_index = TT06.state_indices(\"V\")"
   ]
  },
  {
   "cell_type": "code",
   "execution_count": null,
   "metadata": {},
   "outputs": [],
   "source": [
    "num_cells = 4\n",
    "states = np.zeros((num_states, num_cells), dtype=np.float64)"
   ]
  },
  {
   "cell_type": "code",
   "execution_count": null,
   "metadata": {},
   "outputs": [],
   "source": [
    "d_states = cl.array.to_device(queue, states)\n",
    "d_parameters = cl.array.to_device(queue, parameters)"
   ]
  },
  {
   "cell_type": "code",
   "execution_count": null,
   "metadata": {},
   "outputs": [],
   "source": [
    "WORK_GROUP_SIZE = None"
   ]
  },
  {
   "cell_type": "code",
   "execution_count": null,
   "metadata": {},
   "outputs": [],
   "source": [
    "%%time\n",
    "num_timesteps = 2000\n",
    "\n",
    "t_values = np.zeros(num_timesteps, dtype=np.float64)\n",
    "V_trace = np.zeros((num_timesteps, num_cells), dtype=np.float64)\n",
    "\n",
    "t = np.float64(0.0)\n",
    "dt = np.float64(1E-2)\n",
    "prg.init_state_values(queue, (num_cells,), None,#(WORK_GROUP_SIZE,), \n",
    "                      d_states.data, np.uint32(num_cells)\n",
    "                     )\n",
    "for i in range(num_timesteps):\n",
    "    prg.GRL1(queue, (num_cells,), None,#(WORK_GROUP_SIZE,), \n",
    "                        d_states.data, t, dt, d_parameters.data, np.uint32(num_cells)\n",
    "                       )\n",
    "    t += dt\n",
    "    \n",
    "    t_values[i] = t\n",
    "    V_trace[i] = d_states[V_index].get()"
   ]
  },
  {
   "cell_type": "code",
   "execution_count": null,
   "metadata": {},
   "outputs": [],
   "source": [
    "import matplotlib.pyplot as plt\n",
    "%config InlineBackend.figure_format = 'retina'"
   ]
  },
  {
   "cell_type": "code",
   "execution_count": null,
   "metadata": {},
   "outputs": [],
   "source": [
    "plt.plot(t_values, V_trace)\n",
    "plt.show()"
   ]
  },
  {
   "cell_type": "code",
   "execution_count": null,
   "metadata": {},
   "outputs": [],
   "source": [
    "prg.kernel_names"
   ]
  },
  {
   "cell_type": "code",
   "execution_count": null,
   "metadata": {},
   "outputs": [],
   "source": []
  }
 ],
 "metadata": {
  "kernelspec": {
   "display_name": "Python [conda env:winterschool] *",
   "language": "python",
   "name": "conda-env-winterschool-py"
  },
  "language_info": {
   "codemirror_mode": {
    "name": "ipython",
    "version": 3
   },
   "file_extension": ".py",
   "mimetype": "text/x-python",
   "name": "python",
   "nbconvert_exporter": "python",
   "pygments_lexer": "ipython3",
   "version": "3.7.6"
  }
 },
 "nbformat": 4,
 "nbformat_minor": 2
}
