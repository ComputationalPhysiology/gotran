{
 "cells": [
  {
   "cell_type": "code",
   "execution_count": 1,
   "metadata": {
    "scrolled": true
   },
   "outputs": [],
   "source": [
    "try:\n",
    "    import pyopencl as cl\n",
    "except ImportError as e:\n",
    "    msg =(\"pyopencl is not installed.\\n\"\n",
    "          \"The preferred way to install this is through conda, i.e \\n\"\n",
    "          \"conda install pyopencl -y\")\n",
    "    raise ImportError(msg) from e\n"
   ]
  },
  {
   "cell_type": "code",
   "execution_count": 2,
   "metadata": {},
   "outputs": [],
   "source": [
    "import numpy as np\n",
    "import numpy.linalg as la\n",
    "\n",
    "mf = cl.mem_flags"
   ]
  },
  {
   "cell_type": "code",
   "execution_count": 3,
   "metadata": {},
   "outputs": [],
   "source": [
    "import pyopencl.array"
   ]
  },
  {
   "cell_type": "markdown",
   "metadata": {},
   "source": [
    "Create a context - select the platform and device you want to use for the computation"
   ]
  },
  {
   "cell_type": "code",
   "execution_count": 4,
   "metadata": {
    "scrolled": false
   },
   "outputs": [
    {
     "name": "stdout",
     "output_type": "stream",
     "text": [
      "Choose platform:\n",
      "[0] <pyopencl.Platform 'Apple' at 0x7fc363736ce0>\n",
      "Choice [0]:0\n",
      "Choose device(s):\n",
      "[0] <pyopencl.Device 'Intel(R) Core(TM) i9-8950HK CPU @ 2.90GHz' on 'Apple' at 0x7fc363779d90>\n",
      "[1] <pyopencl.Device 'Intel(R) UHD Graphics 630' on 'Apple' at 0x7fc36377cc30>\n",
      "[2] <pyopencl.Device 'AMD Radeon Pro 560X Compute Engine' on 'Apple' at 0x7fc36377cc50>\n",
      "Choice, comma-separated [0]:2\n",
      "Set the environment variable PYOPENCL_CTX='0:2' to avoid being asked again.\n"
     ]
    }
   ],
   "source": [
    "ctx = cl.create_some_context(interactive=True)"
   ]
  },
  {
   "cell_type": "markdown",
   "metadata": {},
   "source": [
    "Create Command queue for the context"
   ]
  },
  {
   "cell_type": "code",
   "execution_count": 5,
   "metadata": {},
   "outputs": [],
   "source": [
    "queue = cl.CommandQueue(ctx)"
   ]
  },
  {
   "cell_type": "markdown",
   "metadata": {},
   "source": [
    "Before running the remainder of this notebook, ensure that `make` has been run so that the `model.cl` and `model.py` files exist."
   ]
  },
  {
   "cell_type": "code",
   "execution_count": 6,
   "metadata": {},
   "outputs": [
    {
     "name": "stdout",
     "output_type": "stream",
     "text": [
      "rm -f tentusscher_panfilov_2006_M_cell.cl\n",
      "rm -f tentusscher_panfilov_2006_M_cell.py\n",
      "rm -f -r __pycache__\n",
      "gotran2opencl tentusscher_panfilov_2006_M_cell.ode --solvers.explicit_euler.generate=1 --solvers.explicit_euler.function_name=FE --solvers.generalized_rush_larsen.generate=1 --solvers.generalized_rush_larsen.function_name=GRL1 --code.body.use_enum=1 --output=tentusscher_panfilov_2006_M_cell.cl\n",
      "Note: The OpenCL support in gotran is a work in progress. The CUDA generator is recommended for NVIDIA GPUs.\n",
      "Loaded ODE model 'tentusscher_panfilov_2006_M_cell' with:\n",
      "     Num full states: 19\n",
      "      Num parameters: 53\n",
      "\n",
      "Generating OpenCL code for the tentusscher_panfilov_2006_M_cell ode...  done.\n",
      "gotran2py tentusscher_panfilov_2006_M_cell.ode\n",
      "Loaded ODE model 'tentusscher_panfilov_2006_M_cell' with:\n",
      "     Num full states: 19\n",
      "      Num parameters: 53\n",
      "\n",
      "Generating Python code for the tentusscher_panfilov_2006_M_cell ode...  done.\n"
     ]
    }
   ],
   "source": [
    "!make clean\n",
    "!make"
   ]
  },
  {
   "cell_type": "markdown",
   "metadata": {},
   "source": [
    "The OpenCL kernel is written to the file `tentusscher_panfilov_2006_M_cell.cl`. We load this kernel and build it using `pyopencl`"
   ]
  },
  {
   "cell_type": "code",
   "execution_count": 7,
   "metadata": {},
   "outputs": [],
   "source": [
    "prg_filename = 'tentusscher_panfilov_2006_M_cell.cl'\n",
    "\n",
    "with open(prg_filename, 'r') as f:\n",
    "    prg_str = f.read()\n",
    "    \n",
    "prg = cl.Program(ctx, prg_str).build()"
   ]
  },
  {
   "cell_type": "markdown",
   "metadata": {},
   "source": [
    "We import the same model using the python API in order to collect the parameter and state values"
   ]
  },
  {
   "cell_type": "code",
   "execution_count": 8,
   "metadata": {},
   "outputs": [],
   "source": [
    "import tentusscher_panfilov_2006_M_cell as TT06"
   ]
  },
  {
   "cell_type": "code",
   "execution_count": 9,
   "metadata": {},
   "outputs": [],
   "source": [
    "parameters = TT06.init_parameter_values()\n",
    "default_initial_state_values = TT06.init_state_values()\n",
    "num_states = default_initial_state_values.shape[0]"
   ]
  },
  {
   "cell_type": "markdown",
   "metadata": {},
   "source": [
    "The index for the membrane potential"
   ]
  },
  {
   "cell_type": "code",
   "execution_count": 10,
   "metadata": {},
   "outputs": [],
   "source": [
    "V_index = TT06.state_indices(\"V\")"
   ]
  },
  {
   "cell_type": "markdown",
   "metadata": {},
   "source": [
    "We solve this using `num_cells` cells"
   ]
  },
  {
   "cell_type": "code",
   "execution_count": 11,
   "metadata": {},
   "outputs": [],
   "source": [
    "num_cells = 4\n",
    "states = np.zeros((num_states, num_cells), dtype=np.float64)"
   ]
  },
  {
   "cell_type": "markdown",
   "metadata": {},
   "source": [
    "We copy the arrays for the states and parameters to the device (i.e the GPU)"
   ]
  },
  {
   "cell_type": "code",
   "execution_count": 12,
   "metadata": {},
   "outputs": [],
   "source": [
    "d_states = cl.array.to_device(queue, states)\n",
    "d_parameters = cl.array.to_device(queue, parameters)"
   ]
  },
  {
   "cell_type": "code",
   "execution_count": 13,
   "metadata": {},
   "outputs": [],
   "source": [
    "WORK_GROUP_SIZE = None"
   ]
  },
  {
   "cell_type": "code",
   "execution_count": 14,
   "metadata": {},
   "outputs": [
    {
     "name": "stdout",
     "output_type": "stream",
     "text": [
      "CPU times: user 12 s, sys: 7.21 s, total: 19.2 s\n",
      "Wall time: 32.8 s\n"
     ]
    }
   ],
   "source": [
    "%%time\n",
    "t_end = 500\n",
    "dt = np.float64(1E-2)\n",
    "num_timesteps = round(t_end / float(dt))\n",
    "\n",
    "\n",
    "t_values = np.zeros(num_timesteps, dtype=np.float64)\n",
    "V_trace = np.zeros((num_timesteps, num_cells), dtype=np.float64)\n",
    "\n",
    "t = np.float64(0.0)\n",
    "\n",
    "prg.init_state_values(\n",
    "    queue, (num_cells,), None,#(WORK_GROUP_SIZE,), \n",
    "    d_states.data, np.uint32(num_cells)\n",
    ")\n",
    "\n",
    "# This loop should ideally be written in openCL\n",
    "for i in range(num_timesteps):\n",
    "    prg.GRL1(\n",
    "        queue, \n",
    "        (num_cells,), \n",
    "        None,#(WORK_GROUP_SIZE,), \n",
    "        d_states.data, \n",
    "        t, \n",
    "        dt, \n",
    "        d_parameters.data, \n",
    "        np.uint32(num_cells)\n",
    "    )\n",
    "    t += dt\n",
    "    \n",
    "    t_values[i] = t\n",
    "    V_trace[i] = d_states[V_index].get()"
   ]
  },
  {
   "cell_type": "code",
   "execution_count": 15,
   "metadata": {},
   "outputs": [],
   "source": [
    "import matplotlib.pyplot as plt\n",
    "%config InlineBackend.figure_format = 'retina'"
   ]
  },
  {
   "cell_type": "code",
   "execution_count": 16,
   "metadata": {},
   "outputs": [
    {
     "data": {
      "image/png": "[encoded data removed]",
      "text/plain": [
       "<Figure size 432x288 with 1 Axes>"
      ]
     },
     "metadata": {
      "image/png": {
       "height": 250,
       "width": 379
      },
      "needs_background": "light"
     },
     "output_type": "display_data"
    }
   ],
   "source": [
    "plt.plot(t_values, V_trace)\n",
    "plt.show()"
   ]
  },
  {
   "cell_type": "code",
   "execution_count": 17,
   "metadata": {},
   "outputs": [
    {
     "data": {
      "text/plain": [
       "'init_state_values;rhs;FE;GRL1;get_field_states;set_field_states'"
      ]
     },
     "execution_count": 17,
     "metadata": {},
     "output_type": "execute_result"
    }
   ],
   "source": [
    "prg.kernel_names"
   ]
  },
  {
   "cell_type": "code",
   "execution_count": null,
   "metadata": {},
   "outputs": [],
   "source": []
  }
 ],
 "metadata": {
  "kernelspec": {
   "display_name": "Python 3",
   "language": "python",
   "name": "python3"
  },
  "language_info": {
   "codemirror_mode": {
    "name": "ipython",
    "version": 3
   },
   "file_extension": ".py",
   "mimetype": "text/x-python",
   "name": "python",
   "nbconvert_exporter": "python",
   "pygments_lexer": "ipython3",
   "version": "3.7.1"
  }
 },
 "nbformat": 4,
 "nbformat_minor": 2
}
